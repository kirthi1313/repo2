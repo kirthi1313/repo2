{
  "nbformat": 4,
  "nbformat_minor": 0,
  "metadata": {
    "accelerator": "GPU",
    "colab": {
      "name": "Final SciBERT demo.ipynb",
      "provenance": [],
      "collapsed_sections": [],
      "include_colab_link": true
    },
    "kernelspec": {
      "display_name": "Python 3",
      "name": "python3"
    },
    "widgets": {
      "application/vnd.jupyter.widget-state+json": {
        "3ba1fd51f5ca442eae1253808abf5a90": {
          "model_module": "@jupyter-widgets/controls",
          "model_name": "HBoxModel",
          "state": {
            "_view_name": "HBoxView",
            "_dom_classes": [],
            "_model_name": "HBoxModel",
            "_view_module": "@jupyter-widgets/controls",
            "_model_module_version": "1.5.0",
            "_view_count": null,
            "_view_module_version": "1.5.0",
            "box_style": "",
            "layout": "IPY_MODEL_df50265406c6453ca77fd50a44c80fcb",
            "_model_module": "@jupyter-widgets/controls",
            "children": [
              "IPY_MODEL_cd209090875d4f39a854e4af7cf0b1bc",
              "IPY_MODEL_aabbdc970cdb4f898a8048f4fa55cce6"
            ]
          }
        },
        "df50265406c6453ca77fd50a44c80fcb": {
          "model_module": "@jupyter-widgets/base",
          "model_name": "LayoutModel",
          "state": {
            "_view_name": "LayoutView",
            "grid_template_rows": null,
            "right": null,
            "justify_content": null,
            "_view_module": "@jupyter-widgets/base",
            "overflow": null,
            "_model_module_version": "1.2.0",
            "_view_count": null,
            "flex_flow": null,
            "width": null,
            "min_width": null,
            "border": null,
            "align_items": null,
            "bottom": null,
            "_model_module": "@jupyter-widgets/base",
            "top": null,
            "grid_column": null,
            "overflow_y": null,
            "overflow_x": null,
            "grid_auto_flow": null,
            "grid_area": null,
            "grid_template_columns": null,
            "flex": null,
            "_model_name": "LayoutModel",
            "justify_items": null,
            "grid_row": null,
            "max_height": null,
            "align_content": null,
            "visibility": null,
            "align_self": null,
            "height": null,
            "min_height": null,
            "padding": null,
            "grid_auto_rows": null,
            "grid_gap": null,
            "max_width": null,
            "order": null,
            "_view_module_version": "1.2.0",
            "grid_template_areas": null,
            "object_position": null,
            "object_fit": null,
            "grid_auto_columns": null,
            "margin": null,
            "display": null,
            "left": null
          }
        },
        "cd209090875d4f39a854e4af7cf0b1bc": {
          "model_module": "@jupyter-widgets/controls",
          "model_name": "FloatProgressModel",
          "state": {
            "_view_name": "ProgressView",
            "style": "IPY_MODEL_8a0e07ffaf654b7d911c1f4a08e61acb",
            "_dom_classes": [],
            "description": "Training  : 100%",
            "_model_name": "FloatProgressModel",
            "bar_style": "success",
            "max": 22,
            "_view_module": "@jupyter-widgets/controls",
            "_model_module_version": "1.5.0",
            "value": 22,
            "_view_count": null,
            "_view_module_version": "1.5.0",
            "orientation": "horizontal",
            "min": 0,
            "description_tooltip": null,
            "_model_module": "@jupyter-widgets/controls",
            "layout": "IPY_MODEL_3fe16d0543064836a61093851a5214ec"
          }
        },
        "aabbdc970cdb4f898a8048f4fa55cce6": {
          "model_module": "@jupyter-widgets/controls",
          "model_name": "HTMLModel",
          "state": {
            "_view_name": "HTMLView",
            "style": "IPY_MODEL_41782324977e4f9e957d92e5b6f41b9c",
            "_dom_classes": [],
            "description": "",
            "_model_name": "HTMLModel",
            "placeholder": "​",
            "_view_module": "@jupyter-widgets/controls",
            "_model_module_version": "1.5.0",
            "value": " 22/22 [00:02&lt;00:00, 10.52it/s, loss=0.0229]",
            "_view_count": null,
            "_view_module_version": "1.5.0",
            "description_tooltip": null,
            "_model_module": "@jupyter-widgets/controls",
            "layout": "IPY_MODEL_5212b2ba0d7345928525f519b103f6fd"
          }
        },
        "8a0e07ffaf654b7d911c1f4a08e61acb": {
          "model_module": "@jupyter-widgets/controls",
          "model_name": "ProgressStyleModel",
          "state": {
            "_view_name": "StyleView",
            "_model_name": "ProgressStyleModel",
            "description_width": "initial",
            "_view_module": "@jupyter-widgets/base",
            "_model_module_version": "1.5.0",
            "_view_count": null,
            "_view_module_version": "1.2.0",
            "bar_color": null,
            "_model_module": "@jupyter-widgets/controls"
          }
        },
        "3fe16d0543064836a61093851a5214ec": {
          "model_module": "@jupyter-widgets/base",
          "model_name": "LayoutModel",
          "state": {
            "_view_name": "LayoutView",
            "grid_template_rows": null,
            "right": null,
            "justify_content": null,
            "_view_module": "@jupyter-widgets/base",
            "overflow": null,
            "_model_module_version": "1.2.0",
            "_view_count": null,
            "flex_flow": null,
            "width": null,
            "min_width": null,
            "border": null,
            "align_items": null,
            "bottom": null,
            "_model_module": "@jupyter-widgets/base",
            "top": null,
            "grid_column": null,
            "overflow_y": null,
            "overflow_x": null,
            "grid_auto_flow": null,
            "grid_area": null,
            "grid_template_columns": null,
            "flex": null,
            "_model_name": "LayoutModel",
            "justify_items": null,
            "grid_row": null,
            "max_height": null,
            "align_content": null,
            "visibility": null,
            "align_self": null,
            "height": null,
            "min_height": null,
            "padding": null,
            "grid_auto_rows": null,
            "grid_gap": null,
            "max_width": null,
            "order": null,
            "_view_module_version": "1.2.0",
            "grid_template_areas": null,
            "object_position": null,
            "object_fit": null,
            "grid_auto_columns": null,
            "margin": null,
            "display": null,
            "left": null
          }
        },
        "41782324977e4f9e957d92e5b6f41b9c": {
          "model_module": "@jupyter-widgets/controls",
          "model_name": "DescriptionStyleModel",
          "state": {
            "_view_name": "StyleView",
            "_model_name": "DescriptionStyleModel",
            "description_width": "",
            "_view_module": "@jupyter-widgets/base",
            "_model_module_version": "1.5.0",
            "_view_count": null,
            "_view_module_version": "1.2.0",
            "_model_module": "@jupyter-widgets/controls"
          }
        },
        "5212b2ba0d7345928525f519b103f6fd": {
          "model_module": "@jupyter-widgets/base",
          "model_name": "LayoutModel",
          "state": {
            "_view_name": "LayoutView",
            "grid_template_rows": null,
            "right": null,
            "justify_content": null,
            "_view_module": "@jupyter-widgets/base",
            "overflow": null,
            "_model_module_version": "1.2.0",
            "_view_count": null,
            "flex_flow": null,
            "width": null,
            "min_width": null,
            "border": null,
            "align_items": null,
            "bottom": null,
            "_model_module": "@jupyter-widgets/base",
            "top": null,
            "grid_column": null,
            "overflow_y": null,
            "overflow_x": null,
            "grid_auto_flow": null,
            "grid_area": null,
            "grid_template_columns": null,
            "flex": null,
            "_model_name": "LayoutModel",
            "justify_items": null,
            "grid_row": null,
            "max_height": null,
            "align_content": null,
            "visibility": null,
            "align_self": null,
            "height": null,
            "min_height": null,
            "padding": null,
            "grid_auto_rows": null,
            "grid_gap": null,
            "max_width": null,
            "order": null,
            "_view_module_version": "1.2.0",
            "grid_template_areas": null,
            "object_position": null,
            "object_fit": null,
            "grid_auto_columns": null,
            "margin": null,
            "display": null,
            "left": null
          }
        },
        "9cfc27c2faa44e20a1a0363669283f50": {
          "model_module": "@jupyter-widgets/controls",
          "model_name": "HBoxModel",
          "state": {
            "_view_name": "HBoxView",
            "_dom_classes": [],
            "_model_name": "HBoxModel",
            "_view_module": "@jupyter-widgets/controls",
            "_model_module_version": "1.5.0",
            "_view_count": null,
            "_view_module_version": "1.5.0",
            "box_style": "",
            "layout": "IPY_MODEL_8b80f83b4dc54995a021f306367b8fb5",
            "_model_module": "@jupyter-widgets/controls",
            "children": [
              "IPY_MODEL_6bc1d9964e8e4542802781f836432ad7",
              "IPY_MODEL_302a7b2eb5aa469d916033c2e3b45757"
            ]
          }
        },
        "8b80f83b4dc54995a021f306367b8fb5": {
          "model_module": "@jupyter-widgets/base",
          "model_name": "LayoutModel",
          "state": {
            "_view_name": "LayoutView",
            "grid_template_rows": null,
            "right": null,
            "justify_content": null,
            "_view_module": "@jupyter-widgets/base",
            "overflow": null,
            "_model_module_version": "1.2.0",
            "_view_count": null,
            "flex_flow": null,
            "width": null,
            "min_width": null,
            "border": null,
            "align_items": null,
            "bottom": null,
            "_model_module": "@jupyter-widgets/base",
            "top": null,
            "grid_column": null,
            "overflow_y": null,
            "overflow_x": null,
            "grid_auto_flow": null,
            "grid_area": null,
            "grid_template_columns": null,
            "flex": null,
            "_model_name": "LayoutModel",
            "justify_items": null,
            "grid_row": null,
            "max_height": null,
            "align_content": null,
            "visibility": null,
            "align_self": null,
            "height": null,
            "min_height": null,
            "padding": null,
            "grid_auto_rows": null,
            "grid_gap": null,
            "max_width": null,
            "order": null,
            "_view_module_version": "1.2.0",
            "grid_template_areas": null,
            "object_position": null,
            "object_fit": null,
            "grid_auto_columns": null,
            "margin": null,
            "display": null,
            "left": null
          }
        },
        "6bc1d9964e8e4542802781f836432ad7": {
          "model_module": "@jupyter-widgets/controls",
          "model_name": "FloatProgressModel",
          "state": {
            "_view_name": "ProgressView",
            "style": "IPY_MODEL_fa2cc63fab474361844e49f8d942c85b",
            "_dom_classes": [],
            "description": "Training  : 100%",
            "_model_name": "FloatProgressModel",
            "bar_style": "success",
            "max": 22,
            "_view_module": "@jupyter-widgets/controls",
            "_model_module_version": "1.5.0",
            "value": 22,
            "_view_count": null,
            "_view_module_version": "1.5.0",
            "orientation": "horizontal",
            "min": 0,
            "description_tooltip": null,
            "_model_module": "@jupyter-widgets/controls",
            "layout": "IPY_MODEL_3d50c7b09a094a0f9c3dc6f2261d2a9f"
          }
        },
        "302a7b2eb5aa469d916033c2e3b45757": {
          "model_module": "@jupyter-widgets/controls",
          "model_name": "HTMLModel",
          "state": {
            "_view_name": "HTMLView",
            "style": "IPY_MODEL_998d2ccdb040483097f362ea1dbd4c9d",
            "_dom_classes": [],
            "description": "",
            "_model_name": "HTMLModel",
            "placeholder": "​",
            "_view_module": "@jupyter-widgets/controls",
            "_model_module_version": "1.5.0",
            "value": " 22/22 [00:02&lt;00:00, 10.98it/s, loss=0.0128]",
            "_view_count": null,
            "_view_module_version": "1.5.0",
            "description_tooltip": null,
            "_model_module": "@jupyter-widgets/controls",
            "layout": "IPY_MODEL_7856d23e86da4a35b558362bf08fa733"
          }
        },
        "fa2cc63fab474361844e49f8d942c85b": {
          "model_module": "@jupyter-widgets/controls",
          "model_name": "ProgressStyleModel",
          "state": {
            "_view_name": "StyleView",
            "_model_name": "ProgressStyleModel",
            "description_width": "initial",
            "_view_module": "@jupyter-widgets/base",
            "_model_module_version": "1.5.0",
            "_view_count": null,
            "_view_module_version": "1.2.0",
            "bar_color": null,
            "_model_module": "@jupyter-widgets/controls"
          }
        },
        "3d50c7b09a094a0f9c3dc6f2261d2a9f": {
          "model_module": "@jupyter-widgets/base",
          "model_name": "LayoutModel",
          "state": {
            "_view_name": "LayoutView",
            "grid_template_rows": null,
            "right": null,
            "justify_content": null,
            "_view_module": "@jupyter-widgets/base",
            "overflow": null,
            "_model_module_version": "1.2.0",
            "_view_count": null,
            "flex_flow": null,
            "width": null,
            "min_width": null,
            "border": null,
            "align_items": null,
            "bottom": null,
            "_model_module": "@jupyter-widgets/base",
            "top": null,
            "grid_column": null,
            "overflow_y": null,
            "overflow_x": null,
            "grid_auto_flow": null,
            "grid_area": null,
            "grid_template_columns": null,
            "flex": null,
            "_model_name": "LayoutModel",
            "justify_items": null,
            "grid_row": null,
            "max_height": null,
            "align_content": null,
            "visibility": null,
            "align_self": null,
            "height": null,
            "min_height": null,
            "padding": null,
            "grid_auto_rows": null,
            "grid_gap": null,
            "max_width": null,
            "order": null,
            "_view_module_version": "1.2.0",
            "grid_template_areas": null,
            "object_position": null,
            "object_fit": null,
            "grid_auto_columns": null,
            "margin": null,
            "display": null,
            "left": null
          }
        },
        "998d2ccdb040483097f362ea1dbd4c9d": {
          "model_module": "@jupyter-widgets/controls",
          "model_name": "DescriptionStyleModel",
          "state": {
            "_view_name": "StyleView",
            "_model_name": "DescriptionStyleModel",
            "description_width": "",
            "_view_module": "@jupyter-widgets/base",
            "_model_module_version": "1.5.0",
            "_view_count": null,
            "_view_module_version": "1.2.0",
            "_model_module": "@jupyter-widgets/controls"
          }
        },
        "7856d23e86da4a35b558362bf08fa733": {
          "model_module": "@jupyter-widgets/base",
          "model_name": "LayoutModel",
          "state": {
            "_view_name": "LayoutView",
            "grid_template_rows": null,
            "right": null,
            "justify_content": null,
            "_view_module": "@jupyter-widgets/base",
            "overflow": null,
            "_model_module_version": "1.2.0",
            "_view_count": null,
            "flex_flow": null,
            "width": null,
            "min_width": null,
            "border": null,
            "align_items": null,
            "bottom": null,
            "_model_module": "@jupyter-widgets/base",
            "top": null,
            "grid_column": null,
            "overflow_y": null,
            "overflow_x": null,
            "grid_auto_flow": null,
            "grid_area": null,
            "grid_template_columns": null,
            "flex": null,
            "_model_name": "LayoutModel",
            "justify_items": null,
            "grid_row": null,
            "max_height": null,
            "align_content": null,
            "visibility": null,
            "align_self": null,
            "height": null,
            "min_height": null,
            "padding": null,
            "grid_auto_rows": null,
            "grid_gap": null,
            "max_width": null,
            "order": null,
            "_view_module_version": "1.2.0",
            "grid_template_areas": null,
            "object_position": null,
            "object_fit": null,
            "grid_auto_columns": null,
            "margin": null,
            "display": null,
            "left": null
          }
        },
        "19bdc31625d040b0a1fc4a06a222fc87": {
          "model_module": "@jupyter-widgets/controls",
          "model_name": "HBoxModel",
          "state": {
            "_view_name": "HBoxView",
            "_dom_classes": [],
            "_model_name": "HBoxModel",
            "_view_module": "@jupyter-widgets/controls",
            "_model_module_version": "1.5.0",
            "_view_count": null,
            "_view_module_version": "1.5.0",
            "box_style": "",
            "layout": "IPY_MODEL_e6b9d65ce0f7406fa85e085d28e5d81b",
            "_model_module": "@jupyter-widgets/controls",
            "children": [
              "IPY_MODEL_3be29eb2aeed4b619119349b438822ed",
              "IPY_MODEL_5b4a2199cf2e49d79db850451b512fdd"
            ]
          }
        },
        "e6b9d65ce0f7406fa85e085d28e5d81b": {
          "model_module": "@jupyter-widgets/base",
          "model_name": "LayoutModel",
          "state": {
            "_view_name": "LayoutView",
            "grid_template_rows": null,
            "right": null,
            "justify_content": null,
            "_view_module": "@jupyter-widgets/base",
            "overflow": null,
            "_model_module_version": "1.2.0",
            "_view_count": null,
            "flex_flow": null,
            "width": null,
            "min_width": null,
            "border": null,
            "align_items": null,
            "bottom": null,
            "_model_module": "@jupyter-widgets/base",
            "top": null,
            "grid_column": null,
            "overflow_y": null,
            "overflow_x": null,
            "grid_auto_flow": null,
            "grid_area": null,
            "grid_template_columns": null,
            "flex": null,
            "_model_name": "LayoutModel",
            "justify_items": null,
            "grid_row": null,
            "max_height": null,
            "align_content": null,
            "visibility": null,
            "align_self": null,
            "height": null,
            "min_height": null,
            "padding": null,
            "grid_auto_rows": null,
            "grid_gap": null,
            "max_width": null,
            "order": null,
            "_view_module_version": "1.2.0",
            "grid_template_areas": null,
            "object_position": null,
            "object_fit": null,
            "grid_auto_columns": null,
            "margin": null,
            "display": null,
            "left": null
          }
        },
        "3be29eb2aeed4b619119349b438822ed": {
          "model_module": "@jupyter-widgets/controls",
          "model_name": "FloatProgressModel",
          "state": {
            "_view_name": "ProgressView",
            "style": "IPY_MODEL_b77b29c9de1343c4aa74a88a39bac029",
            "_dom_classes": [],
            "description": "Training  : 100%",
            "_model_name": "FloatProgressModel",
            "bar_style": "success",
            "max": 22,
            "_view_module": "@jupyter-widgets/controls",
            "_model_module_version": "1.5.0",
            "value": 22,
            "_view_count": null,
            "_view_module_version": "1.5.0",
            "orientation": "horizontal",
            "min": 0,
            "description_tooltip": null,
            "_model_module": "@jupyter-widgets/controls",
            "layout": "IPY_MODEL_bb06402adef74fecbe804fb109ab1018"
          }
        },
        "5b4a2199cf2e49d79db850451b512fdd": {
          "model_module": "@jupyter-widgets/controls",
          "model_name": "HTMLModel",
          "state": {
            "_view_name": "HTMLView",
            "style": "IPY_MODEL_3654ee315ba1477cae12834c28675c38",
            "_dom_classes": [],
            "description": "",
            "_model_name": "HTMLModel",
            "placeholder": "​",
            "_view_module": "@jupyter-widgets/controls",
            "_model_module_version": "1.5.0",
            "value": " 22/22 [00:01&lt;00:00, 11.00it/s, loss=0.00688]",
            "_view_count": null,
            "_view_module_version": "1.5.0",
            "description_tooltip": null,
            "_model_module": "@jupyter-widgets/controls",
            "layout": "IPY_MODEL_5d351d2adaf54ba7a9f103cc82744fcb"
          }
        },
        "b77b29c9de1343c4aa74a88a39bac029": {
          "model_module": "@jupyter-widgets/controls",
          "model_name": "ProgressStyleModel",
          "state": {
            "_view_name": "StyleView",
            "_model_name": "ProgressStyleModel",
            "description_width": "initial",
            "_view_module": "@jupyter-widgets/base",
            "_model_module_version": "1.5.0",
            "_view_count": null,
            "_view_module_version": "1.2.0",
            "bar_color": null,
            "_model_module": "@jupyter-widgets/controls"
          }
        },
        "bb06402adef74fecbe804fb109ab1018": {
          "model_module": "@jupyter-widgets/base",
          "model_name": "LayoutModel",
          "state": {
            "_view_name": "LayoutView",
            "grid_template_rows": null,
            "right": null,
            "justify_content": null,
            "_view_module": "@jupyter-widgets/base",
            "overflow": null,
            "_model_module_version": "1.2.0",
            "_view_count": null,
            "flex_flow": null,
            "width": null,
            "min_width": null,
            "border": null,
            "align_items": null,
            "bottom": null,
            "_model_module": "@jupyter-widgets/base",
            "top": null,
            "grid_column": null,
            "overflow_y": null,
            "overflow_x": null,
            "grid_auto_flow": null,
            "grid_area": null,
            "grid_template_columns": null,
            "flex": null,
            "_model_name": "LayoutModel",
            "justify_items": null,
            "grid_row": null,
            "max_height": null,
            "align_content": null,
            "visibility": null,
            "align_self": null,
            "height": null,
            "min_height": null,
            "padding": null,
            "grid_auto_rows": null,
            "grid_gap": null,
            "max_width": null,
            "order": null,
            "_view_module_version": "1.2.0",
            "grid_template_areas": null,
            "object_position": null,
            "object_fit": null,
            "grid_auto_columns": null,
            "margin": null,
            "display": null,
            "left": null
          }
        },
        "3654ee315ba1477cae12834c28675c38": {
          "model_module": "@jupyter-widgets/controls",
          "model_name": "DescriptionStyleModel",
          "state": {
            "_view_name": "StyleView",
            "_model_name": "DescriptionStyleModel",
            "description_width": "",
            "_view_module": "@jupyter-widgets/base",
            "_model_module_version": "1.5.0",
            "_view_count": null,
            "_view_module_version": "1.2.0",
            "_model_module": "@jupyter-widgets/controls"
          }
        },
        "5d351d2adaf54ba7a9f103cc82744fcb": {
          "model_module": "@jupyter-widgets/base",
          "model_name": "LayoutModel",
          "state": {
            "_view_name": "LayoutView",
            "grid_template_rows": null,
            "right": null,
            "justify_content": null,
            "_view_module": "@jupyter-widgets/base",
            "overflow": null,
            "_model_module_version": "1.2.0",
            "_view_count": null,
            "flex_flow": null,
            "width": null,
            "min_width": null,
            "border": null,
            "align_items": null,
            "bottom": null,
            "_model_module": "@jupyter-widgets/base",
            "top": null,
            "grid_column": null,
            "overflow_y": null,
            "overflow_x": null,
            "grid_auto_flow": null,
            "grid_area": null,
            "grid_template_columns": null,
            "flex": null,
            "_model_name": "LayoutModel",
            "justify_items": null,
            "grid_row": null,
            "max_height": null,
            "align_content": null,
            "visibility": null,
            "align_self": null,
            "height": null,
            "min_height": null,
            "padding": null,
            "grid_auto_rows": null,
            "grid_gap": null,
            "max_width": null,
            "order": null,
            "_view_module_version": "1.2.0",
            "grid_template_areas": null,
            "object_position": null,
            "object_fit": null,
            "grid_auto_columns": null,
            "margin": null,
            "display": null,
            "left": null
          }
        },
        "7bcb0b1109954418b3314639376a75b3": {
          "model_module": "@jupyter-widgets/controls",
          "model_name": "HBoxModel",
          "state": {
            "_view_name": "HBoxView",
            "_dom_classes": [],
            "_model_name": "HBoxModel",
            "_view_module": "@jupyter-widgets/controls",
            "_model_module_version": "1.5.0",
            "_view_count": null,
            "_view_module_version": "1.5.0",
            "box_style": "",
            "layout": "IPY_MODEL_b5a57dd453284b69963c78f3e62790a2",
            "_model_module": "@jupyter-widgets/controls",
            "children": [
              "IPY_MODEL_5f264329b27d45bf952ff94b229044f1",
              "IPY_MODEL_8a29e3ee398a4b1b9e2fa5be06ead5bc"
            ]
          }
        },
        "b5a57dd453284b69963c78f3e62790a2": {
          "model_module": "@jupyter-widgets/base",
          "model_name": "LayoutModel",
          "state": {
            "_view_name": "LayoutView",
            "grid_template_rows": null,
            "right": null,
            "justify_content": null,
            "_view_module": "@jupyter-widgets/base",
            "overflow": null,
            "_model_module_version": "1.2.0",
            "_view_count": null,
            "flex_flow": null,
            "width": null,
            "min_width": null,
            "border": null,
            "align_items": null,
            "bottom": null,
            "_model_module": "@jupyter-widgets/base",
            "top": null,
            "grid_column": null,
            "overflow_y": null,
            "overflow_x": null,
            "grid_auto_flow": null,
            "grid_area": null,
            "grid_template_columns": null,
            "flex": null,
            "_model_name": "LayoutModel",
            "justify_items": null,
            "grid_row": null,
            "max_height": null,
            "align_content": null,
            "visibility": null,
            "align_self": null,
            "height": null,
            "min_height": null,
            "padding": null,
            "grid_auto_rows": null,
            "grid_gap": null,
            "max_width": null,
            "order": null,
            "_view_module_version": "1.2.0",
            "grid_template_areas": null,
            "object_position": null,
            "object_fit": null,
            "grid_auto_columns": null,
            "margin": null,
            "display": null,
            "left": null
          }
        },
        "5f264329b27d45bf952ff94b229044f1": {
          "model_module": "@jupyter-widgets/controls",
          "model_name": "FloatProgressModel",
          "state": {
            "_view_name": "ProgressView",
            "style": "IPY_MODEL_484a66bf4d63441abe55ddcf70e5cd49",
            "_dom_classes": [],
            "description": "Predicting: 100%",
            "_model_name": "FloatProgressModel",
            "bar_style": "success",
            "max": 2,
            "_view_module": "@jupyter-widgets/controls",
            "_model_module_version": "1.5.0",
            "value": 2,
            "_view_count": null,
            "_view_module_version": "1.5.0",
            "orientation": "horizontal",
            "min": 0,
            "description_tooltip": null,
            "_model_module": "@jupyter-widgets/controls",
            "layout": "IPY_MODEL_438e5c7ce8034a77b15e26ad187e1c8b"
          }
        },
        "8a29e3ee398a4b1b9e2fa5be06ead5bc": {
          "model_module": "@jupyter-widgets/controls",
          "model_name": "HTMLModel",
          "state": {
            "_view_name": "HTMLView",
            "style": "IPY_MODEL_dbd05132af8b41a4a0d915f0f2dbb955",
            "_dom_classes": [],
            "description": "",
            "_model_name": "HTMLModel",
            "placeholder": "​",
            "_view_module": "@jupyter-widgets/controls",
            "_model_module_version": "1.5.0",
            "value": " 2/2 [00:00&lt;00:00,  3.76it/s]",
            "_view_count": null,
            "_view_module_version": "1.5.0",
            "description_tooltip": null,
            "_model_module": "@jupyter-widgets/controls",
            "layout": "IPY_MODEL_9a9b7149ecc54b5fb2a14e8183dec82c"
          }
        },
        "484a66bf4d63441abe55ddcf70e5cd49": {
          "model_module": "@jupyter-widgets/controls",
          "model_name": "ProgressStyleModel",
          "state": {
            "_view_name": "StyleView",
            "_model_name": "ProgressStyleModel",
            "description_width": "initial",
            "_view_module": "@jupyter-widgets/base",
            "_model_module_version": "1.5.0",
            "_view_count": null,
            "_view_module_version": "1.2.0",
            "bar_color": null,
            "_model_module": "@jupyter-widgets/controls"
          }
        },
        "438e5c7ce8034a77b15e26ad187e1c8b": {
          "model_module": "@jupyter-widgets/base",
          "model_name": "LayoutModel",
          "state": {
            "_view_name": "LayoutView",
            "grid_template_rows": null,
            "right": null,
            "justify_content": null,
            "_view_module": "@jupyter-widgets/base",
            "overflow": null,
            "_model_module_version": "1.2.0",
            "_view_count": null,
            "flex_flow": null,
            "width": null,
            "min_width": null,
            "border": null,
            "align_items": null,
            "bottom": null,
            "_model_module": "@jupyter-widgets/base",
            "top": null,
            "grid_column": null,
            "overflow_y": null,
            "overflow_x": null,
            "grid_auto_flow": null,
            "grid_area": null,
            "grid_template_columns": null,
            "flex": null,
            "_model_name": "LayoutModel",
            "justify_items": null,
            "grid_row": null,
            "max_height": null,
            "align_content": null,
            "visibility": null,
            "align_self": null,
            "height": null,
            "min_height": null,
            "padding": null,
            "grid_auto_rows": null,
            "grid_gap": null,
            "max_width": null,
            "order": null,
            "_view_module_version": "1.2.0",
            "grid_template_areas": null,
            "object_position": null,
            "object_fit": null,
            "grid_auto_columns": null,
            "margin": null,
            "display": null,
            "left": null
          }
        },
        "dbd05132af8b41a4a0d915f0f2dbb955": {
          "model_module": "@jupyter-widgets/controls",
          "model_name": "DescriptionStyleModel",
          "state": {
            "_view_name": "StyleView",
            "_model_name": "DescriptionStyleModel",
            "description_width": "",
            "_view_module": "@jupyter-widgets/base",
            "_model_module_version": "1.5.0",
            "_view_count": null,
            "_view_module_version": "1.2.0",
            "_model_module": "@jupyter-widgets/controls"
          }
        },
        "9a9b7149ecc54b5fb2a14e8183dec82c": {
          "model_module": "@jupyter-widgets/base",
          "model_name": "LayoutModel",
          "state": {
            "_view_name": "LayoutView",
            "grid_template_rows": null,
            "right": null,
            "justify_content": null,
            "_view_module": "@jupyter-widgets/base",
            "overflow": null,
            "_model_module_version": "1.2.0",
            "_view_count": null,
            "flex_flow": null,
            "width": null,
            "min_width": null,
            "border": null,
            "align_items": null,
            "bottom": null,
            "_model_module": "@jupyter-widgets/base",
            "top": null,
            "grid_column": null,
            "overflow_y": null,
            "overflow_x": null,
            "grid_auto_flow": null,
            "grid_area": null,
            "grid_template_columns": null,
            "flex": null,
            "_model_name": "LayoutModel",
            "justify_items": null,
            "grid_row": null,
            "max_height": null,
            "align_content": null,
            "visibility": null,
            "align_self": null,
            "height": null,
            "min_height": null,
            "padding": null,
            "grid_auto_rows": null,
            "grid_gap": null,
            "max_width": null,
            "order": null,
            "_view_module_version": "1.2.0",
            "grid_template_areas": null,
            "object_position": null,
            "object_fit": null,
            "grid_auto_columns": null,
            "margin": null,
            "display": null,
            "left": null
          }
        }
      }
    }
  },
  "cells": [
    {
      "cell_type": "markdown",
      "metadata": {
        "id": "view-in-github",
        "colab_type": "text"
      },
      "source": [
        "<a href=\"https://colab.research.google.com/github/kirthi1313/repo2/blob/main/Final_SciBERT_demo.ipynb\" target=\"_parent\"><img src=\"https://colab.research.google.com/assets/colab-badge.svg\" alt=\"Open In Colab\"/></a>"
      ]
    },
    {
      "cell_type": "code",
      "metadata": {
        "id": "qsuIqy8xWcIp"
      },
      "source": [
        "%%bash\n",
        "DATADIR=\"NCBI_disease\"\n",
        "if test ! -d \"$DATADIR\";then\n",
        "    echo \"Creating $DATADIR dir\"\n",
        "    mkdir \"$DATADIR\"\n",
        "    cd \"$DATADIR\"\n",
        "    wget https://raw.githubusercontent.com/kirthi1313/repo2/main/sample.txt\n",
        "    wget https://raw.githubusercontent.com/kirthi1313/repo2/main/sample1.txt\n",
        "    wget https://raw.githubusercontent.com/kirthi1313/repo2/main/sample1.txt\n",
        "fi"
      ],
      "execution_count": 2,
      "outputs": []
    },
    {
      "cell_type": "code",
      "metadata": {
        "colab": {
          "base_uri": "https://localhost:8080/"
        },
        "id": "Nt-fm3aWWeeX",
        "outputId": "b866a014-1990-4956-9c1b-47b6072a8887"
      },
      "source": [
        "import os\n",
        "import math\n",
        "import random\n",
        "import csv\n",
        "import sys\n",
        "\n",
        "import numpy as np\n",
        "import pandas as pd\n",
        "from sklearn import metrics\n",
        "from sklearn.metrics import f1_score, precision_score, recall_score\n",
        "from sklearn.metrics import classification_report\n",
        "import statistics as stats\n",
        "\n",
        "!git clone -b master https://github.com/charles9n/bert-sklearn\n",
        "!cd bert-sklearn; pip install .\n",
        "\n",
        "#sys.path.append(\"../\") \n",
        "from bert_sklearn import BertTokenClassifier\n",
        "from bert_sklearn import load_model"
      ],
      "execution_count": 3,
      "outputs": [
        {
          "output_type": "stream",
          "text": [
            "Cloning into 'bert-sklearn'...\n",
            "remote: Enumerating objects: 259, done.\u001b[K\n",
            "remote: Total 259 (delta 0), reused 0 (delta 0), pack-reused 259\u001b[K\n",
            "Receiving objects: 100% (259/259), 516.15 KiB | 1.69 MiB/s, done.\n",
            "Resolving deltas: 100% (131/131), done.\n",
            "Processing /content/bert-sklearn\n",
            "Requirement already satisfied: torch>=0.4.1 in /usr/local/lib/python3.7/dist-packages (from bert-sklearn==0.3.1) (1.8.1+cu101)\n",
            "Requirement already satisfied: scikit-learn in /usr/local/lib/python3.7/dist-packages (from bert-sklearn==0.3.1) (0.22.2.post1)\n",
            "Requirement already satisfied: numpy in /usr/local/lib/python3.7/dist-packages (from bert-sklearn==0.3.1) (1.19.5)\n",
            "Requirement already satisfied: pandas in /usr/local/lib/python3.7/dist-packages (from bert-sklearn==0.3.1) (1.1.5)\n",
            "Collecting boto3\n",
            "\u001b[?25l  Downloading https://files.pythonhosted.org/packages/a3/7c/f7fadb2d3d001d6fb9b8aab6038520e8aab2bb174e2fdb98505df5bbff19/boto3-1.17.86-py2.py3-none-any.whl (131kB)\n",
            "\u001b[K     |████████████████████████████████| 133kB 6.7MB/s \n",
            "\u001b[?25hRequirement already satisfied: requests in /usr/local/lib/python3.7/dist-packages (from bert-sklearn==0.3.1) (2.23.0)\n",
            "Requirement already satisfied: tqdm in /usr/local/lib/python3.7/dist-packages (from bert-sklearn==0.3.1) (4.41.1)\n",
            "Requirement already satisfied: typing-extensions in /usr/local/lib/python3.7/dist-packages (from torch>=0.4.1->bert-sklearn==0.3.1) (3.7.4.3)\n",
            "Requirement already satisfied: joblib>=0.11 in /usr/local/lib/python3.7/dist-packages (from scikit-learn->bert-sklearn==0.3.1) (1.0.1)\n",
            "Requirement already satisfied: scipy>=0.17.0 in /usr/local/lib/python3.7/dist-packages (from scikit-learn->bert-sklearn==0.3.1) (1.4.1)\n",
            "Requirement already satisfied: python-dateutil>=2.7.3 in /usr/local/lib/python3.7/dist-packages (from pandas->bert-sklearn==0.3.1) (2.8.1)\n",
            "Requirement already satisfied: pytz>=2017.2 in /usr/local/lib/python3.7/dist-packages (from pandas->bert-sklearn==0.3.1) (2018.9)\n",
            "Collecting botocore<1.21.0,>=1.20.86\n",
            "\u001b[?25l  Downloading https://files.pythonhosted.org/packages/73/7b/6869c8e68929313a182ba3c1becfee65a7de4cf6d9e7f691fcb42baec8b2/botocore-1.20.86-py2.py3-none-any.whl (7.6MB)\n",
            "\u001b[K     |████████████████████████████████| 7.6MB 10.7MB/s \n",
            "\u001b[?25hCollecting s3transfer<0.5.0,>=0.4.0\n",
            "\u001b[?25l  Downloading https://files.pythonhosted.org/packages/63/d0/693477c688348654ddc21dcdce0817653a294aa43f41771084c25e7ff9c7/s3transfer-0.4.2-py2.py3-none-any.whl (79kB)\n",
            "\u001b[K     |████████████████████████████████| 81kB 12.4MB/s \n",
            "\u001b[?25hCollecting jmespath<1.0.0,>=0.7.1\n",
            "  Downloading https://files.pythonhosted.org/packages/07/cb/5f001272b6faeb23c1c9e0acc04d48eaaf5c862c17709d20e3469c6e0139/jmespath-0.10.0-py2.py3-none-any.whl\n",
            "Requirement already satisfied: certifi>=2017.4.17 in /usr/local/lib/python3.7/dist-packages (from requests->bert-sklearn==0.3.1) (2020.12.5)\n",
            "Requirement already satisfied: urllib3!=1.25.0,!=1.25.1,<1.26,>=1.21.1 in /usr/local/lib/python3.7/dist-packages (from requests->bert-sklearn==0.3.1) (1.24.3)\n",
            "Requirement already satisfied: chardet<4,>=3.0.2 in /usr/local/lib/python3.7/dist-packages (from requests->bert-sklearn==0.3.1) (3.0.4)\n",
            "Requirement already satisfied: idna<3,>=2.5 in /usr/local/lib/python3.7/dist-packages (from requests->bert-sklearn==0.3.1) (2.10)\n",
            "Requirement already satisfied: six>=1.5 in /usr/local/lib/python3.7/dist-packages (from python-dateutil>=2.7.3->pandas->bert-sklearn==0.3.1) (1.15.0)\n",
            "Building wheels for collected packages: bert-sklearn\n",
            "  Building wheel for bert-sklearn (setup.py) ... \u001b[?25l\u001b[?25hdone\n",
            "  Created wheel for bert-sklearn: filename=bert_sklearn-0.3.1-cp37-none-any.whl size=54248 sha256=57aa798dcd9dd50887ae24c01d1c3afc04c3db80f3b16b1e4909674573fd9a18\n",
            "  Stored in directory: /root/.cache/pip/wheels/61/95/c6/5790aae8fb377f5ff356dbe58205aab28858595d6bff8197d0\n",
            "Successfully built bert-sklearn\n",
            "\u001b[31mERROR: botocore 1.20.86 has requirement urllib3<1.27,>=1.25.4, but you'll have urllib3 1.24.3 which is incompatible.\u001b[0m\n",
            "Installing collected packages: jmespath, botocore, s3transfer, boto3, bert-sklearn\n",
            "Successfully installed bert-sklearn-0.3.1 boto3-1.17.86 botocore-1.20.86 jmespath-0.10.0 s3transfer-0.4.2\n"
          ],
          "name": "stdout"
        }
      ]
    },
    {
      "cell_type": "code",
      "metadata": {
        "id": "FfanANzjWvw7"
      },
      "source": [
        "def read_tsv(filename, quotechar=None):\n",
        "    with open(filename, \"r\", encoding='utf-8') as f:\n",
        "        return list(csv.reader(f, delimiter=\"\\t\", quotechar=quotechar))   \n"
      ],
      "execution_count": 4,
      "outputs": []
    },
    {
      "cell_type": "code",
      "metadata": {
        "id": "qHqoOoXUX6Bt"
      },
      "source": [
        "def flatten(l):\n",
        "    return [item for sublist in l for item in sublist]"
      ],
      "execution_count": 5,
      "outputs": []
    },
    {
      "cell_type": "code",
      "metadata": {
        "id": "44FBAA61X8bO"
      },
      "source": [
        "def read_CoNLL2003_format(filename, idx=3):\n",
        "    \"\"\"Read file in CoNLL-2003 shared task format\"\"\"\n",
        "    \n",
        "    # read file\n",
        "    lines =  open(filename).read().strip()  \n",
        "\n",
        "    \n",
        "    # find sentence-like boundaries\n",
        "    lines = lines.split(\"\\n\\n\")  \n",
        "    \n",
        "     # split on newlines\n",
        "    lines = [line.split(\"\\n\") for line in lines]\n",
        "    \n",
        "    # get tokens\n",
        "    tokens = [[l.split()[0] for l in line] for line in lines]\n",
        "    print(lines)\n",
        "    # get labels/tags\n",
        "    # labels = []\n",
        "    # for line in lines:\n",
        "    #   for l in line:\n",
        "    #     if(l.split()[idx]):\n",
        "    #       labels.append(l.split()[idx])\n",
        "    labels = [[l.split()[3] for l in line] for line in lines]\n",
        "    \n",
        "    #convert to df\n",
        "    data= {'tokens': tokens, 'labels': labels}\n",
        "    df=pd.DataFrame(data=data)\n",
        "    return df\n"
      ],
      "execution_count": 6,
      "outputs": []
    },
    {
      "cell_type": "code",
      "metadata": {
        "id": "RB0TAne6YAMs"
      },
      "source": [
        "DATADIR = \"NCBI_disease/\"\n",
        "\n",
        "def get_data(trainfile=DATADIR + \"sample.txt\",\n",
        "             devfile=DATADIR + \"sample1.txt\",\n",
        "             testfile=DATADIR + \"sample1.txt.1\"):\n",
        "\n",
        "    train = read_CoNLL2003_format(trainfile, idx=3)    \n",
        "    dev = read_CoNLL2003_format(devfile, idx=3)\n",
        "    \n",
        "    # combine train and dev\n",
        "    train = pd.concat([train, dev])\n",
        "    print(\"Train and dev data: %d sentences, %d tokens\"%(len(train),len(flatten(train.tokens))))\n",
        "\n",
        "    test = read_CoNLL2003_format(testfile, idx=3)\n",
        "    print(\"Test data: %d sentences, %d tokens\"%(len(test),len(flatten(test.tokens))))\n",
        "    \n",
        "    return train, test"
      ],
      "execution_count": 7,
      "outputs": []
    },
    {
      "cell_type": "code",
      "metadata": {
        "colab": {
          "base_uri": "https://localhost:8080/"
        },
        "id": "1bRu-x6rYEZk",
        "outputId": "b846a52c-8fd5-4fcd-e52e-115b66b1c3de"
      },
      "source": [
        "train, test = get_data()\n",
        "print(test)\n",
        "\n",
        "X_train, y_train = train.tokens, train.labels\n",
        "X_test, y_test = test.tokens, test.labels\n",
        "\n",
        "print(len(train))\n",
        "\n",
        "label_list = np.unique(flatten(y_train))\n",
        "label_list = list(label_list)\n",
        "print(\"\\nNER tags:\",label_list)\n",
        "print(X_test,y_test)"
      ],
      "execution_count": 8,
      "outputs": [
        {
          "output_type": "stream",
          "text": [
            "[['Stay NN O O', 'active NN O CHAT', 'and NN O O', 'lets NN O O', 'have NN O O', 'a NN O O', 'chat NN O CHAT', '. NN O O'], ['Chatbot NN O CHAT', 'has NN O O', 'answered NN O CHAT', '. NN O O'], ['Communicate NN O CHAT', 'with NN O O', 'the NN O O', 'users NN O O', '. NN O O'], ['We NN O O', 'received NN O CHAT', 'a NN O O', 'conversation NN O CHAT', '. NN O O'], ['We NN O O', 'chatted NN O CHAT', 'with NN O O', 'a NN O O', 'robot NN O CHAT', '. NN O O'], ['Is NN O O', 'it NN O O', 'an NN O O', 'automated NN O CHAT', 'message NN O CHAT', '? NN O O'], ['Tell NN O CHAT', 'me NN O O', 'about NN O O', 'yourself NN O O', '? NN O O'], ['I NN O O', 'need NN O O', 'to NN O O', 'know NN O CHAT', 'more NN O CHAT', 'about NN O CHAT', 'you NN O O', '. NN O O'], ['I NN O O', 'never NN O O', 'spoke NN O CHAT', 'with NN O O', 'an NN O O', 'AI NN O CHAT', 'before NN O O', '. NN O O'], ['Can NN O O', 'you NN O O', 'answer NN O CHAT', 'please NN O O', '? NN O O']]\n",
            "[['Did NN O O', 'you NN O O', 'get NN O O', 'my NN O O', 'text NN O CHAT', '? NN O O'], ['I NN O O', 'received NN O O', 'the NN O O', 'text NN O CHAT', '. NN O O'], ['When NN O O', 'shall NN O O', 'I NN O O', 'message NN O CHAT', 'you NN O O', '? NN O O'], ['Can NN O O', 'we NN O O', 'talk NN O CHAT', 'about NN O O', 'something NN O O', 'that NN O O', 'interests NN O CHAT', 'me NN O O', '? NN O O'], ['Are NN O O', 'you NN O O', 'busy? NN O CHAT', 'I NN O O', 'want NN O O', 'to NN O O', 'talk NN O CHAT', 'to NN O O', 'someone NN O O', 'like NN O O', 'you NN O O', '. NN O O'], ['We NN O O', 'received NN O CHAT', 'a NN O O', 'conversation NN O CHAT', '. NN O O'], ['We NN O O', 'chatted NN O CHAT', 'with NN O O', 'a NN O O', 'robot NN O CHAT', '. NN O O'], ['Is NN O O', 'it NN O O', 'an NN O O', 'automated NN O CHAT', 'message NN O CHAT', '? NN O O'], ['Tell NN O CHAT', 'me NN O O', 'about NN O O', 'yourself NN O O', '? NN O O'], ['I NN O O', 'need NN O O', 'to NN O O', 'know NN O CHAT', 'more NN O CHAT', 'about NN O CHAT', 'you NN O O', '. NN O O'], ['I NN O O', 'never NN O O', 'spoke NN O CHAT', 'with NN O O', 'an NN O O', 'AI NN O CHAT', 'before NN O O', '. NN O O'], ['Can NN O O', 'you NN O O', 'answer NN O CHAT', 'please NN O O', '? NN O O']]\n",
            "Train and dev data: 22 sentences, 141 tokens\n",
            "[['Did NN O O', 'you NN O O', 'get NN O O', 'my NN O O', 'text NN O CHAT', '? NN O O'], ['I NN O O', 'received NN O O', 'the NN O O', 'text NN O CHAT', '. NN O O'], ['When NN O O', 'shall NN O O', 'I NN O O', 'message NN O CHAT', 'you NN O O', '? NN O O'], ['Can NN O O', 'we NN O O', 'talk NN O CHAT', 'about NN O O', 'something NN O O', 'that NN O O', 'interests NN O CHAT', 'me NN O O', '? NN O O'], ['Are NN O O', 'you NN O O', 'busy? NN O CHAT', 'I NN O O', 'want NN O O', 'to NN O O', 'talk NN O CHAT', 'to NN O O', 'someone NN O O', 'like NN O O', 'you NN O O', '. NN O O'], ['We NN O O', 'received NN O CHAT', 'a NN O O', 'conversation NN O CHAT', '. NN O O'], ['We NN O O', 'chatted NN O CHAT', 'with NN O O', 'a NN O O', 'robot NN O CHAT', '. NN O O'], ['Is NN O O', 'it NN O O', 'an NN O O', 'automated NN O CHAT', 'message NN O CHAT', '? NN O O'], ['Tell NN O CHAT', 'me NN O O', 'about NN O O', 'yourself NN O O', '? NN O O'], ['I NN O O', 'need NN O O', 'to NN O O', 'know NN O CHAT', 'more NN O CHAT', 'about NN O CHAT', 'you NN O O', '. NN O O'], ['I NN O O', 'never NN O O', 'spoke NN O CHAT', 'with NN O O', 'an NN O O', 'AI NN O CHAT', 'before NN O O', '. NN O O'], ['Can NN O O', 'you NN O O', 'answer NN O CHAT', 'please NN O O', '? NN O O']]\n",
            "Test data: 12 sentences, 81 tokens\n",
            "                                               tokens                                      labels\n",
            "0                        [Did, you, get, my, text, ?]                       [O, O, O, O, CHAT, O]\n",
            "1                         [I, received, the, text, .]                          [O, O, O, CHAT, O]\n",
            "2                   [When, shall, I, message, you, ?]                       [O, O, O, CHAT, O, O]\n",
            "3   [Can, we, talk, about, something, that, intere...           [O, O, CHAT, O, O, O, CHAT, O, O]\n",
            "4   [Are, you, busy?, I, want, to, talk, to, someo...  [O, O, CHAT, O, O, O, CHAT, O, O, O, O, O]\n",
            "5                  [We, received, a, conversation, .]                       [O, CHAT, O, CHAT, O]\n",
            "6                    [We, chatted, with, a, robot, .]                    [O, CHAT, O, O, CHAT, O]\n",
            "7                 [Is, it, an, automated, message, ?]                    [O, O, O, CHAT, CHAT, O]\n",
            "8                      [Tell, me, about, yourself, ?]                          [CHAT, O, O, O, O]\n",
            "9            [I, need, to, know, more, about, you, .]           [O, O, O, CHAT, CHAT, CHAT, O, O]\n",
            "10         [I, never, spoke, with, an, AI, before, .]              [O, O, CHAT, O, O, CHAT, O, O]\n",
            "11                      [Can, you, answer, please, ?]                          [O, O, CHAT, O, O]\n",
            "22\n",
            "\n",
            "NER tags: ['CHAT', 'O']\n",
            "0                          [Did, you, get, my, text, ?]\n",
            "1                           [I, received, the, text, .]\n",
            "2                     [When, shall, I, message, you, ?]\n",
            "3     [Can, we, talk, about, something, that, intere...\n",
            "4     [Are, you, busy?, I, want, to, talk, to, someo...\n",
            "5                    [We, received, a, conversation, .]\n",
            "6                      [We, chatted, with, a, robot, .]\n",
            "7                   [Is, it, an, automated, message, ?]\n",
            "8                        [Tell, me, about, yourself, ?]\n",
            "9              [I, need, to, know, more, about, you, .]\n",
            "10           [I, never, spoke, with, an, AI, before, .]\n",
            "11                        [Can, you, answer, please, ?]\n",
            "Name: tokens, dtype: object 0                          [O, O, O, O, CHAT, O]\n",
            "1                             [O, O, O, CHAT, O]\n",
            "2                          [O, O, O, CHAT, O, O]\n",
            "3              [O, O, CHAT, O, O, O, CHAT, O, O]\n",
            "4     [O, O, CHAT, O, O, O, CHAT, O, O, O, O, O]\n",
            "5                          [O, CHAT, O, CHAT, O]\n",
            "6                       [O, CHAT, O, O, CHAT, O]\n",
            "7                       [O, O, O, CHAT, CHAT, O]\n",
            "8                             [CHAT, O, O, O, O]\n",
            "9              [O, O, O, CHAT, CHAT, CHAT, O, O]\n",
            "10                [O, O, CHAT, O, O, CHAT, O, O]\n",
            "11                            [O, O, CHAT, O, O]\n",
            "Name: labels, dtype: object\n"
          ],
          "name": "stdout"
        }
      ]
    },
    {
      "cell_type": "code",
      "metadata": {
        "id": "e8C02s_tYHkB",
        "colab": {
          "base_uri": "https://localhost:8080/"
        },
        "outputId": "19218af7-24ab-4f57-8039-e676634c72c0"
      },
      "source": [
        "print(train)"
      ],
      "execution_count": 9,
      "outputs": [
        {
          "output_type": "stream",
          "text": [
            "                                               tokens                                      labels\n",
            "0         [Stay, active, and, lets, have, a, chat, .]              [O, CHAT, O, O, O, O, CHAT, O]\n",
            "1                         [Chatbot, has, answered, .]                          [CHAT, O, CHAT, O]\n",
            "2                  [Communicate, with, the, users, .]                          [CHAT, O, O, O, O]\n",
            "3                  [We, received, a, conversation, .]                       [O, CHAT, O, CHAT, O]\n",
            "4                    [We, chatted, with, a, robot, .]                    [O, CHAT, O, O, CHAT, O]\n",
            "5                 [Is, it, an, automated, message, ?]                    [O, O, O, CHAT, CHAT, O]\n",
            "6                      [Tell, me, about, yourself, ?]                          [CHAT, O, O, O, O]\n",
            "7            [I, need, to, know, more, about, you, .]           [O, O, O, CHAT, CHAT, CHAT, O, O]\n",
            "8          [I, never, spoke, with, an, AI, before, .]              [O, O, CHAT, O, O, CHAT, O, O]\n",
            "9                       [Can, you, answer, please, ?]                          [O, O, CHAT, O, O]\n",
            "0                        [Did, you, get, my, text, ?]                       [O, O, O, O, CHAT, O]\n",
            "1                         [I, received, the, text, .]                          [O, O, O, CHAT, O]\n",
            "2                   [When, shall, I, message, you, ?]                       [O, O, O, CHAT, O, O]\n",
            "3   [Can, we, talk, about, something, that, intere...           [O, O, CHAT, O, O, O, CHAT, O, O]\n",
            "4   [Are, you, busy?, I, want, to, talk, to, someo...  [O, O, CHAT, O, O, O, CHAT, O, O, O, O, O]\n",
            "5                  [We, received, a, conversation, .]                       [O, CHAT, O, CHAT, O]\n",
            "6                    [We, chatted, with, a, robot, .]                    [O, CHAT, O, O, CHAT, O]\n",
            "7                 [Is, it, an, automated, message, ?]                    [O, O, O, CHAT, CHAT, O]\n",
            "8                      [Tell, me, about, yourself, ?]                          [CHAT, O, O, O, O]\n",
            "9            [I, need, to, know, more, about, you, .]           [O, O, O, CHAT, CHAT, CHAT, O, O]\n",
            "10         [I, never, spoke, with, an, AI, before, .]              [O, O, CHAT, O, O, CHAT, O, O]\n",
            "11                      [Can, you, answer, please, ?]                          [O, O, CHAT, O, O]\n"
          ],
          "name": "stdout"
        }
      ]
    },
    {
      "cell_type": "code",
      "metadata": {
        "id": "R1B1u2a-YJ0_",
        "colab": {
          "base_uri": "https://localhost:8080/"
        },
        "outputId": "60ec10f5-bc39-44f7-fb6e-baef3de61d0c"
      },
      "source": [
        "i = 3\n",
        "tokens = X_test[i]\n",
        "labels = y_test[i]\n",
        "\n",
        "data = {\"token\": tokens,\"label\": labels}\n",
        "df=pd.DataFrame(data=data)\n",
        "print(df)"
      ],
      "execution_count": 10,
      "outputs": [
        {
          "output_type": "stream",
          "text": [
            "       token label\n",
            "0        Can     O\n",
            "1         we     O\n",
            "2       talk  CHAT\n",
            "3      about     O\n",
            "4  something     O\n",
            "5       that     O\n",
            "6  interests  CHAT\n",
            "7         me     O\n",
            "8          ?     O\n"
          ],
          "name": "stdout"
        }
      ]
    },
    {
      "cell_type": "code",
      "metadata": {
        "id": "y1jIuDwNYOTX",
        "colab": {
          "base_uri": "https://localhost:8080/"
        },
        "outputId": "95b80907-795d-42dc-ad18-243f4ec71818"
      },
      "source": [
        "%%time\n",
        "model = BertTokenClassifier(bert_model='bert-base-cased',\n",
        "                            max_seq_length=178,\n",
        "                            do_lower_case=True,\n",
        "                            epochs=3,\n",
        "                            gradient_accumulation_steps=4,\n",
        "                            learning_rate=3e-5,\n",
        "                            train_batch_size=6,\n",
        "                            eval_batch_size=6,\n",
        "                            validation_fraction=0., \n",
        "                            label_list=None,                           \n",
        "                            ignore_label=['O'])\n",
        "\n",
        "print(model)"
      ],
      "execution_count": 20,
      "outputs": [
        {
          "output_type": "stream",
          "text": [
            "Building sklearn token classifier...\n",
            "BertTokenClassifier(bert_config_json=None, bert_model='bert-base-cased',\n",
            "                    bert_vocab=None, do_lower_case=True, epochs=3,\n",
            "                    eval_batch_size=6, fp16=False, from_tf=False,\n",
            "                    gradient_accumulation_steps=4, ignore_label=['O'],\n",
            "                    label_list=None, learning_rate=3e-05, local_rank=-1,\n",
            "                    logfile='bert_sklearn.log', loss_scale=0,\n",
            "                    max_seq_length=178, num_mlp_hiddens=500, num_mlp_layers=0,\n",
            "                    random_state=42, restore_file=None, train_batch_size=6,\n",
            "                    use_cuda=True, validation_fraction=0.0,\n",
            "                    warmup_proportion=0.1)\n",
            "CPU times: user 3.01 ms, sys: 123 µs, total: 3.13 ms\n",
            "Wall time: 3.19 ms\n"
          ],
          "name": "stdout"
        }
      ]
    },
    {
      "cell_type": "code",
      "metadata": {
        "id": "P0TvLr4sYdAP",
        "colab": {
          "base_uri": "https://localhost:8080/",
          "height": 515,
          "referenced_widgets": [
            "3ba1fd51f5ca442eae1253808abf5a90",
            "df50265406c6453ca77fd50a44c80fcb",
            "cd209090875d4f39a854e4af7cf0b1bc",
            "aabbdc970cdb4f898a8048f4fa55cce6",
            "8a0e07ffaf654b7d911c1f4a08e61acb",
            "3fe16d0543064836a61093851a5214ec",
            "41782324977e4f9e957d92e5b6f41b9c",
            "5212b2ba0d7345928525f519b103f6fd",
            "9cfc27c2faa44e20a1a0363669283f50",
            "8b80f83b4dc54995a021f306367b8fb5",
            "6bc1d9964e8e4542802781f836432ad7",
            "302a7b2eb5aa469d916033c2e3b45757",
            "fa2cc63fab474361844e49f8d942c85b",
            "3d50c7b09a094a0f9c3dc6f2261d2a9f",
            "998d2ccdb040483097f362ea1dbd4c9d",
            "7856d23e86da4a35b558362bf08fa733",
            "19bdc31625d040b0a1fc4a06a222fc87",
            "e6b9d65ce0f7406fa85e085d28e5d81b",
            "3be29eb2aeed4b619119349b438822ed",
            "5b4a2199cf2e49d79db850451b512fdd",
            "b77b29c9de1343c4aa74a88a39bac029",
            "bb06402adef74fecbe804fb109ab1018",
            "3654ee315ba1477cae12834c28675c38",
            "5d351d2adaf54ba7a9f103cc82744fcb"
          ]
        },
        "outputId": "f78cc16c-9cfd-469e-8fba-e295dc50f2ae"
      },
      "source": [
        "# finetune model on train data\n",
        "model.fit(X_train, y_train)\n"
      ],
      "execution_count": 21,
      "outputs": [
        {
          "output_type": "stream",
          "text": [
            "Loading bert-base-cased model...\n",
            "Defaulting to linear classifier/regressor\n",
            "Loading Pytorch checkpoint\n",
            "\n",
            "train data size: 22, validation data size: 0\n",
            "\n"
          ],
          "name": "stdout"
        },
        {
          "output_type": "stream",
          "text": [
            "/usr/local/lib/python3.7/dist-packages/torch/utils/data/dataloader.py:477: UserWarning: This DataLoader will create 5 worker processes in total. Our suggested max number of worker in current system is 2, which is smaller than what this DataLoader is going to create. Please be aware that excessive worker creation might get DataLoader running slow or even freeze, lower the worker number to avoid potential slowness/freeze if necessary.\n",
            "  cpuset_checked))\n"
          ],
          "name": "stderr"
        },
        {
          "output_type": "display_data",
          "data": {
            "application/vnd.jupyter.widget-view+json": {
              "model_id": "3ba1fd51f5ca442eae1253808abf5a90",
              "version_minor": 0,
              "version_major": 2
            },
            "text/plain": [
              "HBox(children=(FloatProgress(value=0.0, description='Training  ', max=22.0, style=ProgressStyle(description_wi…"
            ]
          },
          "metadata": {
            "tags": []
          }
        },
        {
          "output_type": "stream",
          "text": [
            "\n"
          ],
          "name": "stdout"
        },
        {
          "output_type": "display_data",
          "data": {
            "application/vnd.jupyter.widget-view+json": {
              "model_id": "9cfc27c2faa44e20a1a0363669283f50",
              "version_minor": 0,
              "version_major": 2
            },
            "text/plain": [
              "HBox(children=(FloatProgress(value=0.0, description='Training  ', max=22.0, style=ProgressStyle(description_wi…"
            ]
          },
          "metadata": {
            "tags": []
          }
        },
        {
          "output_type": "stream",
          "text": [
            "\n"
          ],
          "name": "stdout"
        },
        {
          "output_type": "display_data",
          "data": {
            "application/vnd.jupyter.widget-view+json": {
              "model_id": "19bdc31625d040b0a1fc4a06a222fc87",
              "version_minor": 0,
              "version_major": 2
            },
            "text/plain": [
              "HBox(children=(FloatProgress(value=0.0, description='Training  ', max=22.0, style=ProgressStyle(description_wi…"
            ]
          },
          "metadata": {
            "tags": []
          }
        },
        {
          "output_type": "stream",
          "text": [
            "\n"
          ],
          "name": "stdout"
        },
        {
          "output_type": "execute_result",
          "data": {
            "text/plain": [
              "BertTokenClassifier(bert_config_json=None, bert_model='bert-base-cased',\n",
              "                    bert_vocab=None, do_lower_case=True, epochs=3,\n",
              "                    eval_batch_size=6, fp16=False, from_tf=False,\n",
              "                    gradient_accumulation_steps=4, ignore_label=['O'],\n",
              "                    label_list=array(['CHAT', 'O'], dtype='<U4'),\n",
              "                    learning_rate=3e-05, local_rank=-1,\n",
              "                    logfile='bert_sklearn.log', loss_scale=0,\n",
              "                    max_seq_length=178, num_mlp_hiddens=500, num_mlp_layers=0,\n",
              "                    random_state=42, restore_file=None, train_batch_size=6,\n",
              "                    use_cuda=True, validation_fraction=0.0,\n",
              "                    warmup_proportion=0.1)"
            ]
          },
          "metadata": {
            "tags": []
          },
          "execution_count": 21
        }
      ]
    },
    {
      "cell_type": "code",
      "metadata": {
        "id": "svNhlLfuYgVf",
        "colab": {
          "base_uri": "https://localhost:8080/",
          "height": 711,
          "referenced_widgets": [
            "7bcb0b1109954418b3314639376a75b3",
            "b5a57dd453284b69963c78f3e62790a2",
            "5f264329b27d45bf952ff94b229044f1",
            "8a29e3ee398a4b1b9e2fa5be06ead5bc",
            "484a66bf4d63441abe55ddcf70e5cd49",
            "438e5c7ce8034a77b15e26ad187e1c8b",
            "dbd05132af8b41a4a0d915f0f2dbb955",
            "9a9b7149ecc54b5fb2a14e8183dec82c"
          ]
        },
        "outputId": "b7c4bd2a-ef3c-4062-e575-cb02c9d30b62"
      },
      "source": [
        "# get predictions on test data\n",
        "y_preds = model.predict(X_test)\n",
        "print(X_test,y_test,y_preds)\n",
        "\n",
        "# print report on classifier stats\n",
        "print(classification_report(flatten(y_test), flatten(y_preds)))"
      ],
      "execution_count": 22,
      "outputs": [
        {
          "output_type": "stream",
          "text": [
            "/usr/local/lib/python3.7/dist-packages/torch/utils/data/dataloader.py:477: UserWarning: This DataLoader will create 5 worker processes in total. Our suggested max number of worker in current system is 2, which is smaller than what this DataLoader is going to create. Please be aware that excessive worker creation might get DataLoader running slow or even freeze, lower the worker number to avoid potential slowness/freeze if necessary.\n",
            "  cpuset_checked))\n"
          ],
          "name": "stderr"
        },
        {
          "output_type": "display_data",
          "data": {
            "application/vnd.jupyter.widget-view+json": {
              "model_id": "7bcb0b1109954418b3314639376a75b3",
              "version_minor": 0,
              "version_major": 2
            },
            "text/plain": [
              "HBox(children=(FloatProgress(value=0.0, description='Predicting', max=2.0, style=ProgressStyle(description_wid…"
            ]
          },
          "metadata": {
            "tags": []
          }
        },
        {
          "output_type": "stream",
          "text": [
            "\n",
            "0                          [Did, you, get, my, text, ?]\n",
            "1                           [I, received, the, text, .]\n",
            "2                     [When, shall, I, message, you, ?]\n",
            "3     [Can, we, talk, about, something, that, intere...\n",
            "4     [Are, you, busy?, I, want, to, talk, to, someo...\n",
            "5                    [We, received, a, conversation, .]\n",
            "6                      [We, chatted, with, a, robot, .]\n",
            "7                   [Is, it, an, automated, message, ?]\n",
            "8                        [Tell, me, about, yourself, ?]\n",
            "9              [I, need, to, know, more, about, you, .]\n",
            "10           [I, never, spoke, with, an, AI, before, .]\n",
            "11                        [Can, you, answer, please, ?]\n",
            "Name: tokens, dtype: object 0                          [O, O, O, O, CHAT, O]\n",
            "1                             [O, O, O, CHAT, O]\n",
            "2                          [O, O, O, CHAT, O, O]\n",
            "3              [O, O, CHAT, O, O, O, CHAT, O, O]\n",
            "4     [O, O, CHAT, O, O, O, CHAT, O, O, O, O, O]\n",
            "5                          [O, CHAT, O, CHAT, O]\n",
            "6                       [O, CHAT, O, O, CHAT, O]\n",
            "7                       [O, O, O, CHAT, CHAT, O]\n",
            "8                             [CHAT, O, O, O, O]\n",
            "9              [O, O, O, CHAT, CHAT, CHAT, O, O]\n",
            "10                [O, O, CHAT, O, O, CHAT, O, O]\n",
            "11                            [O, O, CHAT, O, O]\n",
            "Name: labels, dtype: object [['O', 'O', 'O', 'O', 'CHAT', 'O'], ['O', 'O', 'O', 'CHAT', 'O'], ['O', 'O', 'O', 'CHAT', 'O', 'O'], ['O', 'O', 'CHAT', 'O', 'O', 'O', 'CHAT', 'O', 'O'], ['O', 'O', 'O', 'O', 'O', 'O', 'CHAT', 'O', 'O', 'O', 'O', 'O'], ['O', 'CHAT', 'O', 'CHAT', 'O'], ['O', 'CHAT', 'O', 'O', 'CHAT', 'O'], ['O', 'O', 'O', 'CHAT', 'CHAT', 'O'], ['CHAT', 'O', 'O', 'O', 'O'], ['O', 'O', 'O', 'CHAT', 'CHAT', 'CHAT', 'O', 'O'], ['O', 'O', 'CHAT', 'O', 'O', 'CHAT', 'O', 'O'], ['O', 'O', 'CHAT', 'O', 'O']]\n",
            "              precision    recall  f1-score   support\n",
            "\n",
            "        CHAT       1.00      0.95      0.97        20\n",
            "           O       0.98      1.00      0.99        61\n",
            "\n",
            "    accuracy                           0.99        81\n",
            "   macro avg       0.99      0.97      0.98        81\n",
            "weighted avg       0.99      0.99      0.99        81\n",
            "\n"
          ],
          "name": "stdout"
        }
      ]
    },
    {
      "cell_type": "code",
      "metadata": {
        "id": "Lj6cbR0JBTCP"
      },
      "source": [
        ""
      ],
      "execution_count": 13,
      "outputs": []
    }
  ]
}